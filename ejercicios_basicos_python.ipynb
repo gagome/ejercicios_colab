{
  "nbformat": 4,
  "nbformat_minor": 0,
  "metadata": {
    "colab": {
      "provenance": [],
      "authorship_tag": "ABX9TyNF+9V1fJl8A2YbnznksMsE",
      "include_colab_link": true
    },
    "kernelspec": {
      "name": "python3",
      "display_name": "Python 3"
    },
    "language_info": {
      "name": "python"
    }
  },
  "cells": [
    {
      "cell_type": "markdown",
      "metadata": {
        "id": "view-in-github",
        "colab_type": "text"
      },
      "source": [
        "<a href=\"https://colab.research.google.com/github/gagome/ejercicios_colab/blob/main/ejercicios_basicos_python.ipynb\" target=\"_parent\"><img src=\"https://colab.research.google.com/assets/colab-badge.svg\" alt=\"Open In Colab\"/></a>"
      ]
    },
    {
      "cell_type": "markdown",
      "source": [
        "1. Suma de dos enteros\n",
        "2. Potencia de un número"
      ],
      "metadata": {
        "id": "z_yUlDchjHXK"
      }
    },
    {
      "cell_type": "code",
      "execution_count": null,
      "metadata": {
        "id": "Nw5ciARnix9W"
      },
      "outputs": [],
      "source": [
        "print(\"-----------------------------\")\n",
        "print(\"---- SUMA DE DOS ENTEROS ----\")\n",
        "print(\"-----------------------------\")\n",
        " \n",
        "#INPUT\n",
        "x=int(input(\"Dijite el valor de x: \"))\n",
        "y=int(input(\"Dijite el valor de y: \"))\n",
        "\n",
        "#PROCESSING\n",
        "z=x+y\n",
        "\n",
        "#OUTPUT\n",
        "print(\"la suma de \",x,\" + \",y,\" es \",z)"
      ]
    },
    {
      "cell_type": "code",
      "source": [
        "print(\"-------------------------------\")\n",
        "print(\"---- POTENCIA DE UN NÚMERO ----\")\n",
        "print(\"-------------------------------\")\n",
        "\n",
        "#INPUT\n",
        "x=int(input(\"Dijite el valor de x: \"))\n",
        "y=int(input(\"Dijite el valor de y: \"))\n",
        "\n",
        "#PROCESSING\n",
        "z=x**y\n",
        "\n",
        "#OUTPUT\n",
        "print(x,\" elevado a la \",y,\" es \",z)"
      ],
      "metadata": {
        "id": "ecauanWwk8Ul"
      },
      "execution_count": null,
      "outputs": []
    }
  ]
}